{
  "nbformat": 4,
  "nbformat_minor": 0,
  "metadata": {
    "anaconda-cloud": {},
    "kernelspec": {
      "display_name": "Python 3",
      "language": "python",
      "name": "python3"
    },
    "language_info": {
      "codemirror_mode": {
        "name": "ipython",
        "version": 3
      },
      "file_extension": ".py",
      "mimetype": "text/x-python",
      "name": "python",
      "nbconvert_exporter": "python",
      "pygments_lexer": "ipython3",
      "version": "3.6.5"
    },
    "colab": {
      "name": "Desafio 8.ipynb",
      "provenance": [],
      "include_colab_link": true
    }
  },
  "cells": [
    {
      "cell_type": "markdown",
      "metadata": {
        "id": "view-in-github",
        "colab_type": "text"
      },
      "source": [
        "<a href=\"https://colab.research.google.com/github/mandysampaio/br-python-challenges/blob/master/Desafio_08_resolvido.ipynb\" target=\"_parent\"><img src=\"https://colab.research.google.com/assets/colab-badge.svg\" alt=\"Open In Colab\"/></a>"
      ]
    },
    {
      "cell_type": "markdown",
      "metadata": {
        "id": "o3tkeMDNf6Jo"
      },
      "source": [
        "### Desafio 8\n",
        "\n",
        "Escreva um script Python para encontrar as 10 palavras mais longas em um arquivo.\n",
        "\n",
        "O arquivo TXT está localizado na mesma pasta do projeto (texto.txt)."
      ]
    },
    {
      "cell_type": "code",
      "metadata": {
        "id": "EknxjSG0f6Jo",
        "colab": {
          "base_uri": "https://localhost:8080/"
        },
        "outputId": "3568089a-dec9-43b3-985a-5aca5fb18367"
      },
      "source": [
        "!wget https://raw.githubusercontent.com/mandysampaio/br-python-challenges/master/texto.txt\r\n",
        "with open('texto.txt', 'r') as txt:\r\n",
        "  texto = txt.read().replace('.',' ').replace('?',' ').replace(',',' ').replace(')',' ').split()\r\n",
        "lista_total = sorted(texto,key=len,reverse=True)\r\n",
        "lista_final = [0]\r\n",
        "for palavra in lista_total:\r\n",
        "  if len(lista_final) <= 10:\r\n",
        "    if palavra not in lista_final:\r\n",
        "      lista_final.append(palavra)\r\n",
        "  else:\r\n",
        "    break\r\n",
        "\r\n",
        "lista_final\r\n",
        "\r\n",
        "\r\n"
      ],
      "execution_count": 19,
      "outputs": [
        {
          "output_type": "stream",
          "text": [
            "--2021-01-03 15:29:04--  https://raw.githubusercontent.com/mandysampaio/br-python-challenges/master/texto.txt\n",
            "Resolving raw.githubusercontent.com (raw.githubusercontent.com)... 151.101.0.133, 151.101.64.133, 151.101.128.133, ...\n",
            "Connecting to raw.githubusercontent.com (raw.githubusercontent.com)|151.101.0.133|:443... connected.\n",
            "HTTP request sent, awaiting response... 200 OK\n",
            "Length: 766 [text/plain]\n",
            "Saving to: ‘texto.txt.13’\n",
            "\n",
            "\rtexto.txt.13          0%[                    ]       0  --.-KB/s               \rtexto.txt.13        100%[===================>]     766  --.-KB/s    in 0s      \n",
            "\n",
            "2021-01-03 15:29:04 (35.5 MB/s) - ‘texto.txt.13’ saved [766/766]\n",
            "\n"
          ],
          "name": "stdout"
        },
        {
          "output_type": "execute_result",
          "data": {
            "text/plain": [
              "[0,\n",
              " 'general-purpose',\n",
              " 'object-oriented',\n",
              " 'comprehensive',\n",
              " 'intermediate',\n",
              " 'interpreted',\n",
              " 'programming',\n",
              " 'readability',\n",
              " 'programmers',\n",
              " 'high-level',\n",
              " 'philosophy']"
            ]
          },
          "metadata": {
            "tags": []
          },
          "execution_count": 19
        }
      ]
    }
  ]
}