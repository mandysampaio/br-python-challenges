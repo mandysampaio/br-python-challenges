{
  "nbformat": 4,
  "nbformat_minor": 0,
  "metadata": {
    "anaconda-cloud": {},
    "kernelspec": {
      "display_name": "Python 3",
      "language": "python",
      "name": "python3"
    },
    "language_info": {
      "codemirror_mode": {
        "name": "ipython",
        "version": 3
      },
      "file_extension": ".py",
      "mimetype": "text/x-python",
      "name": "python",
      "nbconvert_exporter": "python",
      "pygments_lexer": "ipython3",
      "version": "3.7.7"
    },
    "colab": {
      "name": "Desafio 1.ipynb",
      "provenance": [],
      "include_colab_link": true
    }
  },
  "cells": [
    {
      "cell_type": "markdown",
      "metadata": {
        "id": "view-in-github",
        "colab_type": "text"
      },
      "source": [
        "<a href=\"https://colab.research.google.com/github/mandysampaio/br-python-challenges/blob/master/Desafio_01_resolvido.ipynb\" target=\"_parent\"><img src=\"https://colab.research.google.com/assets/colab-badge.svg\" alt=\"Open In Colab\"/></a>"
      ]
    },
    {
      "cell_type": "markdown",
      "metadata": {
        "id": "SbLLE9q1eldC"
      },
      "source": [
        "### Desafio 1\n",
        "\n",
        "Escreva um programa em Python para contabilizar a quantidade de ocorrências de cada palavra."
      ]
    },
    {
      "cell_type": "code",
      "metadata": {
        "id": "WhtbdwFseldD"
      },
      "source": [
        "palavras = [\n",
        "   'red', 'green', 'black', 'pink', 'black', 'white', 'black', 'eyes',\n",
        "   'white', 'black', 'orange', 'pink', 'pink', 'red', 'red', 'white', 'orange',\n",
        "   'white', \"black\", 'pink', 'green', 'green', 'pink', 'green', 'pink',\n",
        "   'white', 'orange', \"orange\", 'red'\n",
        "]"
      ],
      "execution_count": 3,
      "outputs": []
    },
    {
      "cell_type": "code",
      "metadata": {
        "id": "M58o1U9KfAxa",
        "colab": {
          "base_uri": "https://localhost:8080/"
        },
        "outputId": "6d8c7986-3539-4232-d850-5959aa7f7d9b"
      },
      "source": [
        "index = 0\r\n",
        "contagem = []\r\n",
        "palavras_unicas = list(set(palavras))\r\n",
        "resultado = {}\r\n",
        "while index < len(palavras_unicas):\r\n",
        "  contagem.append(palavras.count(palavras_unicas[index]))\r\n",
        "  resultado[palavras_unicas[index]] = (contagem[index])\r\n",
        "  index = index + 1\r\n",
        "resultado\r\n"
      ],
      "execution_count": 74,
      "outputs": [
        {
          "output_type": "execute_result",
          "data": {
            "text/plain": [
              "{'black': 5,\n",
              " 'eyes': 1,\n",
              " 'green': 4,\n",
              " 'orange': 4,\n",
              " 'pink': 6,\n",
              " 'red': 4,\n",
              " 'white': 5}"
            ]
          },
          "metadata": {
            "tags": []
          },
          "execution_count": 74
        }
      ]
    }
  ]
}