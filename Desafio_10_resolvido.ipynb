{
  "nbformat": 4,
  "nbformat_minor": 0,
  "metadata": {
    "anaconda-cloud": {},
    "kernelspec": {
      "display_name": "Python 3",
      "language": "python",
      "name": "python3"
    },
    "language_info": {
      "codemirror_mode": {
        "name": "ipython",
        "version": 3
      },
      "file_extension": ".py",
      "mimetype": "text/x-python",
      "name": "python",
      "nbconvert_exporter": "python",
      "pygments_lexer": "ipython3",
      "version": "3.6.5"
    },
    "colab": {
      "name": "Desafio 10.ipynb",
      "provenance": [],
      "include_colab_link": true
    }
  },
  "cells": [
    {
      "cell_type": "markdown",
      "metadata": {
        "id": "view-in-github",
        "colab_type": "text"
      },
      "source": [
        "<a href=\"https://colab.research.google.com/github/mandysampaio/br-python-challenges/blob/master/Desafio_10_resolvido.ipynb\" target=\"_parent\"><img src=\"https://colab.research.google.com/assets/colab-badge.svg\" alt=\"Open In Colab\"/></a>"
      ]
    },
    {
      "cell_type": "markdown",
      "metadata": {
        "id": "a4-FLDRof6Jv"
      },
      "source": [
        "### Desafio 10\n",
        "\n",
        "Dada uma lista, divida-a em 3 partes iguais e reverta cada lista.\n",
        "\n",
        "Exemplo: \n",
        "\n",
        "sampleList = [11, 45, 8, 23, 14, 12, 78, 45, 89]\n",
        "\n",
        "Parte 1 [8, 45, 11]\n",
        "\n",
        "Parte 2 [12, 14, 23]\n",
        "\n",
        "Parte 3 [89, 45, 78]"
      ]
    },
    {
      "cell_type": "code",
      "metadata": {
        "id": "IJ70pUjnf6Jw",
        "colab": {
          "base_uri": "https://localhost:8080/"
        },
        "outputId": "dcb682a7-ea9c-4fe0-83df-b8399d54b7e9"
      },
      "source": [
        "def dividir_e_reverter(lista):\r\n",
        "  tamanho = int(len(lista) / 3)\r\n",
        "  parte1 = [] \r\n",
        "  parte2 = []\r\n",
        "  parte3 = []\r\n",
        "  index = 0\r\n",
        "\r\n",
        "  while len(parte1) <= (tamanho - 1):\r\n",
        "      parte1.append(lista[index])\r\n",
        "      parte2.append(lista[index + 3])\r\n",
        "      parte3.append(lista[index + 6])\r\n",
        "      index += 1\r\n",
        "      \r\n",
        "  parte1.reverse()\r\n",
        "  parte2.reverse()\r\n",
        "  parte3.reverse()\r\n",
        "  return parte1, parte2, parte3\r\n",
        "\r\n",
        "dividir_e_reverter(sampleList)\r\n"
      ],
      "execution_count": 29,
      "outputs": [
        {
          "output_type": "execute_result",
          "data": {
            "text/plain": [
              "([8, 45, 11], [12, 14, 23], [89, 45, 78])"
            ]
          },
          "metadata": {
            "tags": []
          },
          "execution_count": 29
        }
      ]
    }
  ]
}