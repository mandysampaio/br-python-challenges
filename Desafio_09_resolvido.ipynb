{
  "nbformat": 4,
  "nbformat_minor": 0,
  "metadata": {
    "anaconda-cloud": {},
    "kernelspec": {
      "display_name": "Python 3",
      "language": "python",
      "name": "python3"
    },
    "language_info": {
      "codemirror_mode": {
        "name": "ipython",
        "version": 3
      },
      "file_extension": ".py",
      "mimetype": "text/x-python",
      "name": "python",
      "nbconvert_exporter": "python",
      "pygments_lexer": "ipython3",
      "version": "3.6.5"
    },
    "colab": {
      "name": "Desafio 9.ipynb",
      "provenance": [],
      "include_colab_link": true
    }
  },
  "cells": [
    {
      "cell_type": "markdown",
      "metadata": {
        "id": "view-in-github",
        "colab_type": "text"
      },
      "source": [
        "<a href=\"https://colab.research.google.com/github/mandysampaio/br-python-challenges/blob/master/Desafio_09_resolvido.ipynb\" target=\"_parent\"><img src=\"https://colab.research.google.com/assets/colab-badge.svg\" alt=\"Open In Colab\"/></a>"
      ]
    },
    {
      "cell_type": "markdown",
      "metadata": {
        "id": "HpvTpUBGf6Jr"
      },
      "source": [
        "### Desafio 9\n",
        "\n",
        "Escreva uma função que retorne a soma dos múltiplos de 3 e 5 entre 0 e um número limite (parâmetro). Por exemplo, se o limite for 20, ele retornará a soma de 3, 5, 6, 9, 10, 12, 15, 18, 20."
      ]
    },
    {
      "cell_type": "code",
      "metadata": {
        "id": "195C6bw-f6Js",
        "colab": {
          "base_uri": "https://localhost:8080/"
        },
        "outputId": "d237948d-6f10-4fa7-8152-81bd5bc0beaa"
      },
      "source": [
        "def multiplo(x,y):\r\n",
        "  return x % y == 0 \r\n",
        "\r\n",
        "def soma_multiplos(limite):\r\n",
        "  resultado = 0\r\n",
        "  for numero in range(limite + 1):\r\n",
        "    if multiplo(numero,3) or multiplo(numero,5):\r\n",
        "      resultado += numero\r\n",
        "  return resultado\r\n",
        "\r\n",
        "soma_multiplos(20)\r\n",
        "\r\n",
        "\r\n"
      ],
      "execution_count": 59,
      "outputs": [
        {
          "output_type": "execute_result",
          "data": {
            "text/plain": [
              "98"
            ]
          },
          "metadata": {
            "tags": []
          },
          "execution_count": 59
        }
      ]
    },
    {
      "cell_type": "code",
      "metadata": {
        "id": "5l4dii_TExGP"
      },
      "source": [
        ""
      ],
      "execution_count": null,
      "outputs": []
    }
  ]
}